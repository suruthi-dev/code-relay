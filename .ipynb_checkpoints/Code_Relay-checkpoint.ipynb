{
 "cells": [
  {
   "cell_type": "markdown",
   "metadata": {
    "id": "QUUZFv1vdk3J"
   },
   "source": [
    "# **Dataset Description**"
   ]
  },
  {
   "cell_type": "markdown",
   "metadata": {
    "id": "_lRe-MBLPJ5t"
   },
   "source": [
    "This dataset is originally from the `National Institute of Diabetes and Digestive and Kidney Diseases.`\n",
    "\n",
    "The objective of the dataset is to diagnostically `predict whether or not a patient has diabetes`, based on certain diagnostic measurements included in the dataset.\n",
    "\n",
    "Several constraints were placed on the selection of these instances from a larger database. In particular, all patients here are females `at least 21 years old of Pima Indian heritage.`\n",
    "\n",
    "---\n",
    "\n"
   ]
  },
  {
   "cell_type": "markdown",
   "metadata": {
    "id": "ic0t-VsCP3RB"
   },
   "source": [
    "The datasets consists of several medical predictor variables and one target variable, `Outcome`.\n",
    "\n",
    "Features :\n",
    "\n",
    "1. **Pregnancies** - Number of times pregnant\n",
    "\n",
    "2. **Glucose** - Plasma glucose concentration a 2 hours in an oral glucose tolerance test\n",
    "\n",
    "3. **BloodPressure** - Diastolic blood pressure (mm Hg)\n",
    "\n",
    "4. **SkinThickness** - Triceps skin fold thickness (mm)\n",
    "\n",
    "5. **Insulin** - 2-Hour serum insulin (mu U/ml)\n",
    "\n",
    "6. **BMI** - Body mass index (weight in kg/(height in m)^2)\n",
    "\n",
    "7. **DiabetesPedigreeFunction** - function that scores the probability of diabetes based on family history\n",
    "\n",
    "8. **Age** - Age (years)\n",
    "\n",
    "9. **Outcome** - Class variable (0 or 1)\n",
    "\n",
    "\n",
    "\n",
    "\n",
    "\n",
    "\n",
    "\n"
   ]
  },
  {
   "cell_type": "markdown",
   "metadata": {
    "id": "MwwPaRm-cJGx"
   },
   "source": [
    "# **Part - 2  Data Visualization**"
   ]
  },
  {
   "cell_type": "markdown",
   "metadata": {
    "id": "ezLPvqsCb3TJ"
   },
   "source": [
    "1. **Analyse the distribution of glucose level and interpret the results    (5 Marks)**\n",
    "\n",
    "---\n",
    "\n",
    "\n",
    "2. **Examine the distribution of outcome column  (5 Marks)**\n",
    "\n",
    "---\n",
    "\n",
    "\n",
    "3. **Construct a heatmap for the dataset  (5 Marks)**\n",
    "\n",
    "---\n",
    "\n",
    "\n",
    "4. **Construct a scatterplot between Age and BMI  (5 Marks)**\n",
    "\n",
    "---\n",
    "\n"
   ]
  },
  {
   "cell_type": "markdown",
   "metadata": {
    "id": "4esRNhQBdSPU"
   },
   "source": [
    "5. **Analyse the skin-thickness in-correspondance with the Insulin level   (5 Marks)**\n",
    "\n",
    "---\n",
    "\n",
    "\n",
    "6. **Examine the DiabetesPedigreeFunction using  violin plot   (5 Marks)**\n",
    "\n",
    "---\n",
    "\n",
    "\n",
    "7. **Construct boxplot for BloodPressure   (5 Marks)**\n",
    "\n",
    "---\n",
    "\n",
    "\n",
    "8. **Interpret all the plots with the explanation  (5 Marks)**\n",
    "\n",
    "---\n",
    "\n"
   ]
  },
  {
   "cell_type": "code",
   "execution_count": null,
   "metadata": {
    "id": "RwNYqHr7O_hY"
   },
   "outputs": [],
   "source": []
  },
  {
   "cell_type": "code",
   "execution_count": null,
   "metadata": {
    "id": "Q65cDWzGcqzQ"
   },
   "outputs": [],
   "source": []
  },
  {
   "cell_type": "markdown",
   "metadata": {
    "id": "C0qHzySxcsDo"
   },
   "source": [
    "# **Part - 3  Model Building**"
   ]
  },
  {
   "cell_type": "markdown",
   "metadata": {
    "id": "Cuo8GCP_cxPX"
   },
   "source": [
    "1. **Split the data into train and test (20%)  (2 Marks)**\n",
    "\n",
    "---\n",
    "\n",
    "\n",
    "2. **Build a robust model that classifies whether a patient have diabetes or not based on the feature columns  (10 Marks)**\n",
    "\n",
    "---\n",
    "\n",
    "\n",
    "3. **Construct Classification report consisting of (Accuracy, precision, recall, f1 score) and Confusion matrix depicting the mis-classification rates  (8 Marks)**\n",
    "\n",
    "---\n",
    "\n"
   ]
  },
  {
   "cell_type": "code",
   "execution_count": null,
   "metadata": {
    "id": "MXQVKS4tcqss"
   },
   "outputs": [],
   "source": []
  },
  {
   "cell_type": "code",
   "execution_count": null,
   "metadata": {
    "id": "3ApCeU8ndRWC"
   },
   "outputs": [],
   "source": []
  },
  {
   "cell_type": "code",
   "execution_count": null,
   "metadata": {
    "id": "5Z34D8L4dRTp"
   },
   "outputs": [],
   "source": []
  }
 ],
 "metadata": {
  "colab": {
   "provenance": []
  },
  "kernelspec": {
   "display_name": "Python 3 (ipykernel)",
   "language": "python",
   "name": "python3"
  },
  "language_info": {
   "codemirror_mode": {
    "name": "ipython",
    "version": 3
   },
   "file_extension": ".py",
   "mimetype": "text/x-python",
   "name": "python",
   "nbconvert_exporter": "python",
   "pygments_lexer": "ipython3",
   "version": "3.10.9"
  }
 },
 "nbformat": 4,
 "nbformat_minor": 1
}
